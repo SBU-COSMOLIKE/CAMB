{
 "cells": [
  {
   "cell_type": "markdown",
   "id": "d3f7bbd4",
   "metadata": {},
   "source": [
    "### Late Dark Energy  \n",
    "Diogo H F de Souza, Sep 5 2023 - Testing CAMBLateDE:  https://github.com/SBU-COSMOLIKE/CAMB  "
   ]
  },
  {
   "cell_type": "code",
   "execution_count": 2,
   "id": "6eb4df04",
   "metadata": {},
   "outputs": [
    {
     "name": "stdout",
     "output_type": "stream",
     "text": [
      "Using CAMB 1.5.0 installed at /home/grads/data/Diogo/CAMBLateDE/camb\n"
     ]
    }
   ],
   "source": [
    "# Importing libraries\n",
    "import numpy as np\n",
    "%matplotlib inline\n",
    "import matplotlib\n",
    "import matplotlib.pyplot as plt\n",
    "import os, sys\n",
    "import camb\n",
    "\n",
    "#Check which CAMB is installed. It should return CAMBLateDE\n",
    "print('Using CAMB %s installed at %s'%(camb.__version__,os.path.dirname(camb.__file__)))"
   ]
  },
  {
   "cell_type": "markdown",
   "id": "c60ab10f",
   "metadata": {},
   "source": [
    "### Basic test: CAMBLateDE"
   ]
  },
  {
   "cell_type": "code",
   "execution_count": 3,
   "id": "39667292",
   "metadata": {},
   "outputs": [],
   "source": [
    "latedeCosmology = camb.set_params(# Background\n",
    "                            H0 = 70, ombh2=0.02238280, omch2=0.1201075, TCMB = 2.7255,\n",
    "                            dark_energy_model = 'LateDE',\n",
    "                            w0 = -0.9123, w1 = 0, model = 10,\n",
    "                            # Neutrinos\n",
    "                            omnuh2 = 0, num_nu_massless=3.044, num_nu_massive = 0,\n",
    "                            nu_mass_degeneracies=[0], nu_mass_numbers = [0],\n",
    "                            # Initial Power Spectrum\n",
    "                            As = 2.100549e-09, ns = 0.9660499, \n",
    "                            YHe = 0.246, WantTransfer=True)\n",
    "\n",
    "latedeResults = camb.get_results(latedeCosmology)\n",
    "scales = np.logspace(-6, 0, 200)\n",
    "rhode, w = latedeResults.get_dark_energy_rho_w(scales)\n",
    "omegade = latedeResults.get_Omega('de', z = 1/scales - 1)"
   ]
  },
  {
   "cell_type": "code",
   "execution_count": 4,
   "id": "be74800a",
   "metadata": {},
   "outputs": [
    {
     "data": {
      "text/plain": [
       "[<matplotlib.lines.Line2D at 0x7f2ed832e7d0>]"
      ]
     },
     "execution_count": 4,
     "metadata": {},
     "output_type": "execute_result"
    },
    {
     "data": {
      "image/png": "[encoded data removed]",
      "text/plain": [
       "<Figure size 432x288 with 1 Axes>"
      ]
     },
     "metadata": {
      "needs_background": "light"
     },
     "output_type": "display_data"
    }
   ],
   "source": [
    "plt.semilogx(scales, rhode)"
   ]
  },
  {
   "cell_type": "code",
   "execution_count": null,
   "id": "623da1ad",
   "metadata": {},
   "outputs": [],
   "source": []
  }
 ],
 "metadata": {
  "kernelspec": {
   "display_name": "Python 3 (ipykernel)",
   "language": "python",
   "name": "python3"
  },
  "language_info": {
   "codemirror_mode": {
    "name": "ipython",
    "version": 3
   },
   "file_extension": ".py",
   "mimetype": "text/x-python",
   "name": "python",
   "nbconvert_exporter": "python",
   "pygments_lexer": "ipython3",
   "version": "3.7.7"
  }
 },
 "nbformat": 4,
 "nbformat_minor": 5
}
